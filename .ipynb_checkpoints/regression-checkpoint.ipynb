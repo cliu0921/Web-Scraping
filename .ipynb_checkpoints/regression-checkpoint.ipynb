{
 "cells": [
  {
   "cell_type": "code",
   "execution_count": 21,
   "metadata": {},
   "outputs": [],
   "source": [
    "import pandas as pd\n",
    "import numpy as np\n",
    "import math\n",
    "from sklearn import linear_model"
   ]
  },
  {
   "cell_type": "code",
   "execution_count": 92,
   "metadata": {},
   "outputs": [
    {
     "ename": "FileNotFoundError",
     "evalue": "[Errno 2] File cars_df.csv does not exist: 'cars_df.csv'",
     "output_type": "error",
     "traceback": [
      "\u001b[0;31m---------------------------------------------------------------------------\u001b[0m",
      "\u001b[0;31mFileNotFoundError\u001b[0m                         Traceback (most recent call last)",
      "\u001b[0;32m<ipython-input-92-cff4760edd35>\u001b[0m in \u001b[0;36m<module>\u001b[0;34m\u001b[0m\n\u001b[0;32m----> 1\u001b[0;31m \u001b[0mcars\u001b[0m \u001b[0;34m=\u001b[0m \u001b[0mpd\u001b[0m\u001b[0;34m.\u001b[0m\u001b[0mread_csv\u001b[0m\u001b[0;34m(\u001b[0m\u001b[0;34m'cars_df.csv'\u001b[0m\u001b[0;34m)\u001b[0m\u001b[0;34m\u001b[0m\u001b[0;34m\u001b[0m\u001b[0m\n\u001b[0m",
      "\u001b[0;32m/opt/anaconda3/lib/python3.7/site-packages/pandas/io/parsers.py\u001b[0m in \u001b[0;36mparser_f\u001b[0;34m(filepath_or_buffer, sep, delimiter, header, names, index_col, usecols, squeeze, prefix, mangle_dupe_cols, dtype, engine, converters, true_values, false_values, skipinitialspace, skiprows, skipfooter, nrows, na_values, keep_default_na, na_filter, verbose, skip_blank_lines, parse_dates, infer_datetime_format, keep_date_col, date_parser, dayfirst, cache_dates, iterator, chunksize, compression, thousands, decimal, lineterminator, quotechar, quoting, doublequote, escapechar, comment, encoding, dialect, error_bad_lines, warn_bad_lines, delim_whitespace, low_memory, memory_map, float_precision)\u001b[0m\n\u001b[1;32m    674\u001b[0m         )\n\u001b[1;32m    675\u001b[0m \u001b[0;34m\u001b[0m\u001b[0m\n\u001b[0;32m--> 676\u001b[0;31m         \u001b[0;32mreturn\u001b[0m \u001b[0m_read\u001b[0m\u001b[0;34m(\u001b[0m\u001b[0mfilepath_or_buffer\u001b[0m\u001b[0;34m,\u001b[0m \u001b[0mkwds\u001b[0m\u001b[0;34m)\u001b[0m\u001b[0;34m\u001b[0m\u001b[0;34m\u001b[0m\u001b[0m\n\u001b[0m\u001b[1;32m    677\u001b[0m \u001b[0;34m\u001b[0m\u001b[0m\n\u001b[1;32m    678\u001b[0m     \u001b[0mparser_f\u001b[0m\u001b[0;34m.\u001b[0m\u001b[0m__name__\u001b[0m \u001b[0;34m=\u001b[0m \u001b[0mname\u001b[0m\u001b[0;34m\u001b[0m\u001b[0;34m\u001b[0m\u001b[0m\n",
      "\u001b[0;32m/opt/anaconda3/lib/python3.7/site-packages/pandas/io/parsers.py\u001b[0m in \u001b[0;36m_read\u001b[0;34m(filepath_or_buffer, kwds)\u001b[0m\n\u001b[1;32m    446\u001b[0m \u001b[0;34m\u001b[0m\u001b[0m\n\u001b[1;32m    447\u001b[0m     \u001b[0;31m# Create the parser.\u001b[0m\u001b[0;34m\u001b[0m\u001b[0;34m\u001b[0m\u001b[0;34m\u001b[0m\u001b[0m\n\u001b[0;32m--> 448\u001b[0;31m     \u001b[0mparser\u001b[0m \u001b[0;34m=\u001b[0m \u001b[0mTextFileReader\u001b[0m\u001b[0;34m(\u001b[0m\u001b[0mfp_or_buf\u001b[0m\u001b[0;34m,\u001b[0m \u001b[0;34m**\u001b[0m\u001b[0mkwds\u001b[0m\u001b[0;34m)\u001b[0m\u001b[0;34m\u001b[0m\u001b[0;34m\u001b[0m\u001b[0m\n\u001b[0m\u001b[1;32m    449\u001b[0m \u001b[0;34m\u001b[0m\u001b[0m\n\u001b[1;32m    450\u001b[0m     \u001b[0;32mif\u001b[0m \u001b[0mchunksize\u001b[0m \u001b[0;32mor\u001b[0m \u001b[0miterator\u001b[0m\u001b[0;34m:\u001b[0m\u001b[0;34m\u001b[0m\u001b[0;34m\u001b[0m\u001b[0m\n",
      "\u001b[0;32m/opt/anaconda3/lib/python3.7/site-packages/pandas/io/parsers.py\u001b[0m in \u001b[0;36m__init__\u001b[0;34m(self, f, engine, **kwds)\u001b[0m\n\u001b[1;32m    878\u001b[0m             \u001b[0mself\u001b[0m\u001b[0;34m.\u001b[0m\u001b[0moptions\u001b[0m\u001b[0;34m[\u001b[0m\u001b[0;34m\"has_index_names\"\u001b[0m\u001b[0;34m]\u001b[0m \u001b[0;34m=\u001b[0m \u001b[0mkwds\u001b[0m\u001b[0;34m[\u001b[0m\u001b[0;34m\"has_index_names\"\u001b[0m\u001b[0;34m]\u001b[0m\u001b[0;34m\u001b[0m\u001b[0;34m\u001b[0m\u001b[0m\n\u001b[1;32m    879\u001b[0m \u001b[0;34m\u001b[0m\u001b[0m\n\u001b[0;32m--> 880\u001b[0;31m         \u001b[0mself\u001b[0m\u001b[0;34m.\u001b[0m\u001b[0m_make_engine\u001b[0m\u001b[0;34m(\u001b[0m\u001b[0mself\u001b[0m\u001b[0;34m.\u001b[0m\u001b[0mengine\u001b[0m\u001b[0;34m)\u001b[0m\u001b[0;34m\u001b[0m\u001b[0;34m\u001b[0m\u001b[0m\n\u001b[0m\u001b[1;32m    881\u001b[0m \u001b[0;34m\u001b[0m\u001b[0m\n\u001b[1;32m    882\u001b[0m     \u001b[0;32mdef\u001b[0m \u001b[0mclose\u001b[0m\u001b[0;34m(\u001b[0m\u001b[0mself\u001b[0m\u001b[0;34m)\u001b[0m\u001b[0;34m:\u001b[0m\u001b[0;34m\u001b[0m\u001b[0;34m\u001b[0m\u001b[0m\n",
      "\u001b[0;32m/opt/anaconda3/lib/python3.7/site-packages/pandas/io/parsers.py\u001b[0m in \u001b[0;36m_make_engine\u001b[0;34m(self, engine)\u001b[0m\n\u001b[1;32m   1112\u001b[0m     \u001b[0;32mdef\u001b[0m \u001b[0m_make_engine\u001b[0m\u001b[0;34m(\u001b[0m\u001b[0mself\u001b[0m\u001b[0;34m,\u001b[0m \u001b[0mengine\u001b[0m\u001b[0;34m=\u001b[0m\u001b[0;34m\"c\"\u001b[0m\u001b[0;34m)\u001b[0m\u001b[0;34m:\u001b[0m\u001b[0;34m\u001b[0m\u001b[0;34m\u001b[0m\u001b[0m\n\u001b[1;32m   1113\u001b[0m         \u001b[0;32mif\u001b[0m \u001b[0mengine\u001b[0m \u001b[0;34m==\u001b[0m \u001b[0;34m\"c\"\u001b[0m\u001b[0;34m:\u001b[0m\u001b[0;34m\u001b[0m\u001b[0;34m\u001b[0m\u001b[0m\n\u001b[0;32m-> 1114\u001b[0;31m             \u001b[0mself\u001b[0m\u001b[0;34m.\u001b[0m\u001b[0m_engine\u001b[0m \u001b[0;34m=\u001b[0m \u001b[0mCParserWrapper\u001b[0m\u001b[0;34m(\u001b[0m\u001b[0mself\u001b[0m\u001b[0;34m.\u001b[0m\u001b[0mf\u001b[0m\u001b[0;34m,\u001b[0m \u001b[0;34m**\u001b[0m\u001b[0mself\u001b[0m\u001b[0;34m.\u001b[0m\u001b[0moptions\u001b[0m\u001b[0;34m)\u001b[0m\u001b[0;34m\u001b[0m\u001b[0;34m\u001b[0m\u001b[0m\n\u001b[0m\u001b[1;32m   1115\u001b[0m         \u001b[0;32melse\u001b[0m\u001b[0;34m:\u001b[0m\u001b[0;34m\u001b[0m\u001b[0;34m\u001b[0m\u001b[0m\n\u001b[1;32m   1116\u001b[0m             \u001b[0;32mif\u001b[0m \u001b[0mengine\u001b[0m \u001b[0;34m==\u001b[0m \u001b[0;34m\"python\"\u001b[0m\u001b[0;34m:\u001b[0m\u001b[0;34m\u001b[0m\u001b[0;34m\u001b[0m\u001b[0m\n",
      "\u001b[0;32m/opt/anaconda3/lib/python3.7/site-packages/pandas/io/parsers.py\u001b[0m in \u001b[0;36m__init__\u001b[0;34m(self, src, **kwds)\u001b[0m\n\u001b[1;32m   1889\u001b[0m         \u001b[0mkwds\u001b[0m\u001b[0;34m[\u001b[0m\u001b[0;34m\"usecols\"\u001b[0m\u001b[0;34m]\u001b[0m \u001b[0;34m=\u001b[0m \u001b[0mself\u001b[0m\u001b[0;34m.\u001b[0m\u001b[0musecols\u001b[0m\u001b[0;34m\u001b[0m\u001b[0;34m\u001b[0m\u001b[0m\n\u001b[1;32m   1890\u001b[0m \u001b[0;34m\u001b[0m\u001b[0m\n\u001b[0;32m-> 1891\u001b[0;31m         \u001b[0mself\u001b[0m\u001b[0;34m.\u001b[0m\u001b[0m_reader\u001b[0m \u001b[0;34m=\u001b[0m \u001b[0mparsers\u001b[0m\u001b[0;34m.\u001b[0m\u001b[0mTextReader\u001b[0m\u001b[0;34m(\u001b[0m\u001b[0msrc\u001b[0m\u001b[0;34m,\u001b[0m \u001b[0;34m**\u001b[0m\u001b[0mkwds\u001b[0m\u001b[0;34m)\u001b[0m\u001b[0;34m\u001b[0m\u001b[0;34m\u001b[0m\u001b[0m\n\u001b[0m\u001b[1;32m   1892\u001b[0m         \u001b[0mself\u001b[0m\u001b[0;34m.\u001b[0m\u001b[0munnamed_cols\u001b[0m \u001b[0;34m=\u001b[0m \u001b[0mself\u001b[0m\u001b[0;34m.\u001b[0m\u001b[0m_reader\u001b[0m\u001b[0;34m.\u001b[0m\u001b[0munnamed_cols\u001b[0m\u001b[0;34m\u001b[0m\u001b[0;34m\u001b[0m\u001b[0m\n\u001b[1;32m   1893\u001b[0m \u001b[0;34m\u001b[0m\u001b[0m\n",
      "\u001b[0;32mpandas/_libs/parsers.pyx\u001b[0m in \u001b[0;36mpandas._libs.parsers.TextReader.__cinit__\u001b[0;34m()\u001b[0m\n",
      "\u001b[0;32mpandas/_libs/parsers.pyx\u001b[0m in \u001b[0;36mpandas._libs.parsers.TextReader._setup_parser_source\u001b[0;34m()\u001b[0m\n",
      "\u001b[0;31mFileNotFoundError\u001b[0m: [Errno 2] File cars_df.csv does not exist: 'cars_df.csv'"
     ]
    }
   ],
   "source": [
    "cars = pd.read_csv('cars_df.csv')"
   ]
  },
  {
   "cell_type": "code",
   "execution_count": 4,
   "metadata": {},
   "outputs": [],
   "source": [
    "from matplotlib import pyplot as plt\n",
    "plt.style.use('ggplot')"
   ]
  },
  {
   "cell_type": "code",
   "execution_count": 9,
   "metadata": {},
   "outputs": [],
   "source": [
    "cars['Year_model'] = pd.to_numeric(cars.Year_model)"
   ]
  },
  {
   "cell_type": "code",
   "execution_count": 16,
   "metadata": {},
   "outputs": [],
   "source": [
    "cars['Age'] = 2020- cars['Year_model'] "
   ]
  },
  {
   "cell_type": "code",
   "execution_count": 18,
   "metadata": {},
   "outputs": [
    {
     "data": {
      "text/plain": [
       "<matplotlib.collections.PathCollection at 0x124851f90>"
      ]
     },
     "execution_count": 18,
     "metadata": {},
     "output_type": "execute_result"
    },
    {
     "data": {
      "image/png": "[encoded data removed]",
      "text/plain": [
       "<Figure size 432x288 with 1 Axes>"
      ]
     },
     "metadata": {},
     "output_type": "display_data"
    }
   ],
   "source": [
    "plt.scatter(cars['Age'],cars['Price'])"
   ]
  },
  {
   "cell_type": "code",
   "execution_count": 22,
   "metadata": {},
   "outputs": [],
   "source": [
    "car_reg = linear_model.LinearRegression()"
   ]
  },
  {
   "cell_type": "code",
   "execution_count": 63,
   "metadata": {},
   "outputs": [
    {
     "data": {
      "text/html": [
       "<div>\n",
       "<style scoped>\n",
       "    .dataframe tbody tr th:only-of-type {\n",
       "        vertical-align: middle;\n",
       "    }\n",
       "\n",
       "    .dataframe tbody tr th {\n",
       "        vertical-align: top;\n",
       "    }\n",
       "\n",
       "    .dataframe thead th {\n",
       "        text-align: right;\n",
       "    }\n",
       "</style>\n",
       "<table border=\"1\" class=\"dataframe\">\n",
       "  <thead>\n",
       "    <tr style=\"text-align: right;\">\n",
       "      <th></th>\n",
       "      <th>Listing</th>\n",
       "      <th>Make</th>\n",
       "      <th>Year_model</th>\n",
       "      <th>Price</th>\n",
       "      <th>Milage</th>\n",
       "      <th>Exterior_color</th>\n",
       "      <th>Interior_color</th>\n",
       "      <th>Transmission</th>\n",
       "      <th>Drivetrain</th>\n",
       "      <th>City</th>\n",
       "      <th>Age</th>\n",
       "    </tr>\n",
       "  </thead>\n",
       "  <tbody>\n",
       "    <tr>\n",
       "      <th>0</th>\n",
       "      <td>2013 INFINITI JX35 Base</td>\n",
       "      <td>INFINITI</td>\n",
       "      <td>2013</td>\n",
       "      <td>13888.0</td>\n",
       "      <td>73953.0</td>\n",
       "      <td>White</td>\n",
       "      <td>Brown</td>\n",
       "      <td>CVT</td>\n",
       "      <td>AWD</td>\n",
       "      <td>New York City</td>\n",
       "      <td>7</td>\n",
       "    </tr>\n",
       "    <tr>\n",
       "      <th>1</th>\n",
       "      <td>2006 Suzuki Grand Vitara</td>\n",
       "      <td>Suzuki</td>\n",
       "      <td>2006</td>\n",
       "      <td>3995.0</td>\n",
       "      <td>121390.0</td>\n",
       "      <td>Red</td>\n",
       "      <td>Gray</td>\n",
       "      <td>Automatic</td>\n",
       "      <td>4x4/4-wheel drive</td>\n",
       "      <td>New York City</td>\n",
       "      <td>14</td>\n",
       "    </tr>\n",
       "    <tr>\n",
       "      <th>2</th>\n",
       "      <td>2012 INFINITI FX50 Base</td>\n",
       "      <td>INFINITI</td>\n",
       "      <td>2012</td>\n",
       "      <td>13995.0</td>\n",
       "      <td>101158.0</td>\n",
       "      <td>Black</td>\n",
       "      <td>Black</td>\n",
       "      <td>Automatic</td>\n",
       "      <td>AWD</td>\n",
       "      <td>New York City</td>\n",
       "      <td>8</td>\n",
       "    </tr>\n",
       "    <tr>\n",
       "      <th>3</th>\n",
       "      <td>2012 Honda Odyssey EX-L</td>\n",
       "      <td>Honda</td>\n",
       "      <td>2012</td>\n",
       "      <td>10900.0</td>\n",
       "      <td>57070.0</td>\n",
       "      <td>Black</td>\n",
       "      <td>Gray</td>\n",
       "      <td>Automatic</td>\n",
       "      <td>FWD</td>\n",
       "      <td>New York City</td>\n",
       "      <td>8</td>\n",
       "    </tr>\n",
       "    <tr>\n",
       "      <th>4</th>\n",
       "      <td>2012 INFINITI QX56 Base</td>\n",
       "      <td>INFINITI</td>\n",
       "      <td>2012</td>\n",
       "      <td>13495.0</td>\n",
       "      <td>137301.0</td>\n",
       "      <td>Silver</td>\n",
       "      <td>Gray</td>\n",
       "      <td>Automatic</td>\n",
       "      <td>4x4/4-wheel drive</td>\n",
       "      <td>New York City</td>\n",
       "      <td>8</td>\n",
       "    </tr>\n",
       "    <tr>\n",
       "      <th>...</th>\n",
       "      <td>...</td>\n",
       "      <td>...</td>\n",
       "      <td>...</td>\n",
       "      <td>...</td>\n",
       "      <td>...</td>\n",
       "      <td>...</td>\n",
       "      <td>...</td>\n",
       "      <td>...</td>\n",
       "      <td>...</td>\n",
       "      <td>...</td>\n",
       "      <td>...</td>\n",
       "    </tr>\n",
       "    <tr>\n",
       "      <th>38623</th>\n",
       "      <td>2016 Nissan Juke SL</td>\n",
       "      <td>Nissan</td>\n",
       "      <td>2016</td>\n",
       "      <td>15446.0</td>\n",
       "      <td>49293.0</td>\n",
       "      <td>Black</td>\n",
       "      <td>Black</td>\n",
       "      <td>CVT</td>\n",
       "      <td>AWD</td>\n",
       "      <td>Miami</td>\n",
       "      <td>4</td>\n",
       "    </tr>\n",
       "    <tr>\n",
       "      <th>38624</th>\n",
       "      <td>2017 Ford Escape SE</td>\n",
       "      <td>Ford</td>\n",
       "      <td>2017</td>\n",
       "      <td>13990.0</td>\n",
       "      <td>31252.0</td>\n",
       "      <td>White</td>\n",
       "      <td>Gray</td>\n",
       "      <td>Automatic</td>\n",
       "      <td>FWD</td>\n",
       "      <td>Miami</td>\n",
       "      <td>3</td>\n",
       "    </tr>\n",
       "    <tr>\n",
       "      <th>38625</th>\n",
       "      <td>2019 Volkswagen Atlas 3.6L V6 SE</td>\n",
       "      <td>Volkswagen</td>\n",
       "      <td>2019</td>\n",
       "      <td>25950.0</td>\n",
       "      <td>15349.0</td>\n",
       "      <td>Black</td>\n",
       "      <td>Black</td>\n",
       "      <td>Automatic</td>\n",
       "      <td>FWD</td>\n",
       "      <td>Miami</td>\n",
       "      <td>1</td>\n",
       "    </tr>\n",
       "    <tr>\n",
       "      <th>38626</th>\n",
       "      <td>2015 Chevrolet Equinox 1LT</td>\n",
       "      <td>Chevrolet</td>\n",
       "      <td>2015</td>\n",
       "      <td>6590.0</td>\n",
       "      <td>140410.0</td>\n",
       "      <td>Black</td>\n",
       "      <td>Black</td>\n",
       "      <td>Automatic</td>\n",
       "      <td>FWD</td>\n",
       "      <td>Miami</td>\n",
       "      <td>5</td>\n",
       "    </tr>\n",
       "    <tr>\n",
       "      <th>38627</th>\n",
       "      <td>2019 Toyota RAV4 XLE</td>\n",
       "      <td>Toyota</td>\n",
       "      <td>2019</td>\n",
       "      <td>20637.0</td>\n",
       "      <td>24206.0</td>\n",
       "      <td>Silver</td>\n",
       "      <td>Gray</td>\n",
       "      <td>Automatic</td>\n",
       "      <td>FWD</td>\n",
       "      <td>Miami</td>\n",
       "      <td>1</td>\n",
       "    </tr>\n",
       "  </tbody>\n",
       "</table>\n",
       "<p>38628 rows × 11 columns</p>\n",
       "</div>"
      ],
      "text/plain": [
       "                                Listing        Make  Year_model    Price  \\\n",
       "0               2013 INFINITI JX35 Base    INFINITI        2013  13888.0   \n",
       "1              2006 Suzuki Grand Vitara      Suzuki        2006   3995.0   \n",
       "2               2012 INFINITI FX50 Base    INFINITI        2012  13995.0   \n",
       "3               2012 Honda Odyssey EX-L       Honda        2012  10900.0   \n",
       "4               2012 INFINITI QX56 Base    INFINITI        2012  13495.0   \n",
       "...                                 ...         ...         ...      ...   \n",
       "38623               2016 Nissan Juke SL      Nissan        2016  15446.0   \n",
       "38624               2017 Ford Escape SE        Ford        2017  13990.0   \n",
       "38625  2019 Volkswagen Atlas 3.6L V6 SE  Volkswagen        2019  25950.0   \n",
       "38626        2015 Chevrolet Equinox 1LT   Chevrolet        2015   6590.0   \n",
       "38627              2019 Toyota RAV4 XLE      Toyota        2019  20637.0   \n",
       "\n",
       "         Milage Exterior_color Interior_color Transmission         Drivetrain  \\\n",
       "0       73953.0          White          Brown          CVT                AWD   \n",
       "1      121390.0            Red           Gray    Automatic  4x4/4-wheel drive   \n",
       "2      101158.0          Black          Black    Automatic                AWD   \n",
       "3       57070.0          Black           Gray    Automatic                FWD   \n",
       "4      137301.0         Silver           Gray    Automatic  4x4/4-wheel drive   \n",
       "...         ...            ...            ...          ...                ...   \n",
       "38623   49293.0          Black          Black          CVT                AWD   \n",
       "38624   31252.0          White           Gray    Automatic                FWD   \n",
       "38625   15349.0          Black          Black    Automatic                FWD   \n",
       "38626  140410.0          Black          Black    Automatic                FWD   \n",
       "38627   24206.0         Silver           Gray    Automatic                FWD   \n",
       "\n",
       "                City  Age  \n",
       "0      New York City    7  \n",
       "1      New York City   14  \n",
       "2      New York City    8  \n",
       "3      New York City    8  \n",
       "4      New York City    8  \n",
       "...              ...  ...  \n",
       "38623          Miami    4  \n",
       "38624          Miami    3  \n",
       "38625          Miami    1  \n",
       "38626          Miami    5  \n",
       "38627          Miami    1  \n",
       "\n",
       "[38628 rows x 11 columns]"
      ]
     },
     "execution_count": 63,
     "metadata": {},
     "output_type": "execute_result"
    }
   ],
   "source": [
    "cars.Milage.std()\n",
    "cars.isnull().sum(axis =0)\n",
    "cars2 = cars.dropna(axis=0, how = 'any')\n",
    "cars2.isnull().sum(axis =0)\n",
    "cars2.reset_index(drop = True)"
   ]
  },
  {
   "cell_type": "code",
   "execution_count": 54,
   "metadata": {},
   "outputs": [
    {
     "data": {
      "text/plain": [
       "LinearRegression(copy_X=True, fit_intercept=True, n_jobs=None, normalize=False)"
      ]
     },
     "execution_count": 54,
     "metadata": {},
     "output_type": "execute_result"
    }
   ],
   "source": [
    "car_reg.fit(cars2[['Age','Milage']],cars2.Price)"
   ]
  },
  {
   "cell_type": "code",
   "execution_count": 55,
   "metadata": {},
   "outputs": [
    {
     "data": {
      "text/plain": [
       "array([-5.90368755e+02, -1.29054987e-01])"
      ]
     },
     "execution_count": 55,
     "metadata": {},
     "output_type": "execute_result"
    }
   ],
   "source": [
    "car_reg.coef_"
   ]
  },
  {
   "cell_type": "code",
   "execution_count": 64,
   "metadata": {},
   "outputs": [
    {
     "data": {
      "text/plain": [
       "29303.41515180668"
      ]
     },
     "execution_count": 64,
     "metadata": {},
     "output_type": "execute_result"
    }
   ],
   "source": [
    "car_reg.intercept_"
   ]
  },
  {
   "cell_type": "code",
   "execution_count": 62,
   "metadata": {},
   "outputs": [
    {
     "data": {
      "text/plain": [
       "array([20580.4326448])"
      ]
     },
     "execution_count": 62,
     "metadata": {},
     "output_type": "execute_result"
    }
   ],
   "source": [
    "car_reg.predict([[4,49293.0]])"
   ]
  },
  {
   "cell_type": "code",
   "execution_count": 77,
   "metadata": {},
   "outputs": [
    {
     "data": {
      "text/plain": [
       "LinearRegression(copy_X=True, fit_intercept=True, n_jobs=None, normalize=False)"
      ]
     },
     "execution_count": 77,
     "metadata": {},
     "output_type": "execute_result"
    }
   ],
   "source": [
    "y = 'Toyota'\n",
    "car_reg.fit(cars2[cars2['Make']== y][['Age','Milage']],cars2[cars2['Make'] == y].Price)"
   ]
  },
  {
   "cell_type": "code",
   "execution_count": 78,
   "metadata": {},
   "outputs": [
    {
     "data": {
      "text/plain": [
       "array([-7.52076601e+02, -6.52421518e-02])"
      ]
     },
     "execution_count": 78,
     "metadata": {},
     "output_type": "execute_result"
    }
   ],
   "source": [
    "car_reg.coef_"
   ]
  },
  {
   "cell_type": "code",
   "execution_count": 85,
   "metadata": {},
   "outputs": [],
   "source": [
    "dict_test = {}\n",
    "dict_test['toyota'] = [car_reg.coef_[0], car_reg.coef_[1],car_reg.intercept_]"
   ]
  },
  {
   "cell_type": "code",
   "execution_count": 86,
   "metadata": {},
   "outputs": [
    {
     "data": {
      "text/plain": [
       "{'toyota': [-752.0766007990475, -0.0652421517736819, 24965.7995406914]}"
      ]
     },
     "execution_count": 86,
     "metadata": {},
     "output_type": "execute_result"
    }
   ],
   "source": [
    "dict_test"
   ]
  },
  {
   "cell_type": "code",
   "execution_count": 91,
   "metadata": {},
   "outputs": [
    {
     "data": {
      "text/plain": [
       "{'INFINITI': [-1493.7164861822807, -0.06195103991965417, 33191.862041494904],\n",
       " 'Suzuki': [-344.2423484602017, -0.025727776894300666, 12549.669855896507],\n",
       " 'Honda': [-825.5179499508549, -0.07012061588899887, 25020.70751050779],\n",
       " 'Cadillac': [-1460.3835190165892, -0.1091931469789436, 38353.84717947203],\n",
       " 'Land Rover': [-995.2514322279019, -0.18927860831599091, 45514.078093289136],\n",
       " 'Nissan': [-423.992735672341, -0.08886322357519308, 20304.475509723332],\n",
       " 'Mazda': [-908.1723244721676, -0.0839054918406866, 24917.104582588785],\n",
       " 'BMW': [-1483.454320449099, -0.14740977509656322, 39980.906133438635],\n",
       " 'Toyota': [-752.0766007990475, -0.0652421517736819, 24965.7995406914],\n",
       " 'Saturn': [-631.7792213668937, -0.0486039037930457, 18409.098570938957],\n",
       " 'GMC': [-1389.9847044316793, -0.06425681713302786, 33622.309766657156],\n",
       " 'Chevrolet': [-691.1846949754613, -0.07959780683413974, 24847.030048519417],\n",
       " 'Bentley': [-1956.4939436466566, -0.37991002120580786, 86078.45268199703],\n",
       " 'Mercury': [-114.30162918452466, -0.0697159309554308, 15242.947296872206],\n",
       " 'Hyundai': [-456.0691318913178, -0.08066186790456507, 19001.99966271058],\n",
       " 'Ford': [-822.657843775194, -0.08728052608396569, 27078.41262572734],\n",
       " 'Aston Martin': [-3747.860125176535, -0.29297174995691205, 94131.38855571483],\n",
       " 'Chrysler': [-817.6511065645634, -0.1090347003993956, 26141.582221786935],\n",
       " 'Acura': [-1574.5047148567542, -0.04551372097684719, 30573.19338161456],\n",
       " 'Kia': [-665.2558486294843, -0.0844104366048443, 20372.31589288896],\n",
       " 'Mercedes-Benz': [-1469.0908605828843,\n",
       "  -0.12826830373356146,\n",
       "  41113.227331539325],\n",
       " 'Audi': [-1158.4883065379606, -0.19752344631120633, 41166.78491624248],\n",
       " 'Dodge': [-162.59701798324863, -0.11625897324014317, 23069.048513946324],\n",
       " 'MINI': [-1036.0441415739897, -0.07453336182028207, 24193.75808437533],\n",
       " 'Jaguar': [-1147.9531902423541, -0.20709393640889467, 42413.728243020436],\n",
       " 'Mitsubishi': [-21.633108874352512, -0.08822581577884116, 17660.89482625261],\n",
       " 'Tesla': [-1604.0028400154802, 0.10448244535703918, 48903.18592767653],\n",
       " 'Volkswagen': [-1062.0909652119756, -0.06800249817426265, 23581.949917879338],\n",
       " 'Buick': [-1167.4586321083543, -0.06492742856226054, 25670.834788879954],\n",
       " 'RAM': [-1264.8717611572615, -0.0615498293031228, 33879.54937921694],\n",
       " 'Saab': [-415.55835598714145, -0.032450660742516665, 14897.94210140545],\n",
       " 'Volvo': [-1835.1428093041816, -0.1365953265898061, 40795.13159903894],\n",
       " 'Subaru': [-1031.2927549919239, -0.0675056138134663, 26966.32784642373],\n",
       " 'Lexus': [-1451.7784773213916, -0.06342045321086746, 36472.48900066109],\n",
       " 'Pontiac': [-331.2434709810143, -0.0778447621930516, 20553.283072947386],\n",
       " 'Lotus': [-2398.5195428664715, -0.024589904395003363, 69860.53566401773],\n",
       " 'Maserati': [-1637.4801799435777, -0.28936109501480634, 53511.87533017632],\n",
       " 'Lincoln': [-1623.1047768218782, -0.07142678949181219, 33390.07486492401],\n",
       " 'Scion': [-545.5183896897926, -0.026923948945971055, 15154.79877257969],\n",
       " 'Genesis': [-2241.212528680005, -0.1904750411533485, 41152.340799066966],\n",
       " 'FIAT': [-651.2708312159457, -0.032735257370429344, 13263.202973967622],\n",
       " 'Jeep': [-820.0065728180381, -0.10630688906723627, 28141.667596504336],\n",
       " 'Porsche': [-1372.8879625021366, -0.2234337455191069, 55168.78040597537],\n",
       " 'Hummer': [-1201.0205581715604, -0.12293161754620871, 48476.78343726649],\n",
       " 'smart': [-563.2911761901019, -0.026119691476418152, 12187.605590572783],\n",
       " 'Ferrari': [0.0, 0.0, 57000.0],\n",
       " 'Alfa': [994.6661706953128, -0.4933070707148102, 38396.87524879722],\n",
       " 'Fisker': [0.0, -0.09241579530468887, 36283.28256718055],\n",
       " 'Oldsmobile': [-113.12232673680354, 0.008763978350090572, 3694.8482388955435],\n",
       " 'Rolls-Royce': [0.0, 0.0, 60000.0]}"
      ]
     },
     "execution_count": 91,
     "metadata": {},
     "output_type": "execute_result"
    }
   ],
   "source": [
    "unique_makes = cars2.Make.unique()\n",
    "make_coefs = {}\n",
    "for i in range(len(unique_makes)):\n",
    "\n",
    "    make = unique_makes[i]\n",
    "    #print(make)\n",
    "    #car_reg.fit(cars2[cars2['Make']== y][['Age','Milage']],cars2[cars2['Make'] == y].Price)\n",
    "    car_reg.fit(cars2[cars2['Make']== make][['Age','Milage']],cars2[cars2['Make']== make].Price)\n",
    "    make_coefs[make]= [car_reg.coef_[0], car_reg.coef_[1],car_reg.intercept_]\n",
    "\n",
    "make_coefs\n",
    "    "
   ]
  },
  {
   "cell_type": "code",
   "execution_count": null,
   "metadata": {},
   "outputs": [],
   "source": []
  }
 ],
 "metadata": {
  "kernelspec": {
   "display_name": "Python 3",
   "language": "python",
   "name": "python3"
  },
  "language_info": {
   "codemirror_mode": {
    "name": "ipython",
    "version": 3
   },
   "file_extension": ".py",
   "mimetype": "text/x-python",
   "name": "python",
   "nbconvert_exporter": "python",
   "pygments_lexer": "ipython3",
   "version": "3.7.6"
  }
 },
 "nbformat": 4,
 "nbformat_minor": 4
}
